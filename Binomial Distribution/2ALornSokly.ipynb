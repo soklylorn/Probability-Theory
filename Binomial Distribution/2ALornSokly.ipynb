{
 "cells": [
  {
   "cell_type": "code",
   "execution_count": 2,
   "id": "79871359",
   "metadata": {},
   "outputs": [
    {
     "data": {
      "image/png": "[encoded data removed]",
      "text/plain": [
       "<Figure size 864x216 with 3 Axes>"
      ]
     },
     "metadata": {
      "needs_background": "light"
     },
     "output_type": "display_data"
    }
   ],
   "source": [
    "import matplotlib.pyplot as plt\n",
    "import numpy as np\n",
    "import math\n",
    "from numpy import random\n",
    "from scipy.stats import binom\n",
    "import sys, os\n",
    "\n",
    "\n",
    "def P(n, p, k):\n",
    " \n",
    "    dist=[]\n",
    "    poi=[]\n",
    "    lamda=n*p\n",
    "    for i in range(n+1):\n",
    "        dist.append(math.comb(n,i)*pow(p,i)*pow(1-p,n-i))  # binomial distribution\n",
    "        poi.append((pow(lamda,i)/math.factorial(i))* math.exp(-lamda))  # Poisson distribution\n",
    "\n",
    "    x=np.random.binomial(n, p, k)\n",
    "    sim = [np.equal(x,i).mean() for i in range(n)]   #simulate the binomial k times\n",
    "    \n",
    "    plt.figure(figsize=(12, 3))\n",
    "    \n",
    "    plt.subplot(131)                         # the first diagram\n",
    "    plt.bar(list(range(n+1)),dist)\n",
    "    plt.title('Binomial Distribution')\n",
    "    \n",
    "    plt.subplot(132)                          #the second diagram\n",
    "    plt.bar(list(range(n)),sim)\n",
    "    plt.title('Simulated binomial distribution')\n",
    "    \n",
    "    plt.subplot(133)                         # the third diagram\n",
    "    plt.bar(list(range(n+1)),poi)\n",
    "    plt.title('Approximated with Poisson-distribution')\n",
    "    plt.show()\n",
    "    \n",
    "#def main():    \n",
    " #   n = int(sys.argv[1])\n",
    "  #  p = float(sys.argv[2])\n",
    "   # k = int(sys.argv[3])\n",
    "    #plot(n,p,t)\n",
    "#if __name__ == \"__main__\":\n",
    " #   main()    \n",
    "\n",
    "P(10,0.5,1000)"
   ]
  },
  {
   "cell_type": "code",
   "execution_count": null,
   "id": "d05aa4c8",
   "metadata": {},
   "outputs": [],
   "source": []
  }
 ],
 "metadata": {
  "kernelspec": {
   "display_name": "Python 3 (ipykernel)",
   "language": "python",
   "name": "python3"
  },
  "language_info": {
   "codemirror_mode": {
    "name": "ipython",
    "version": 3
   },
   "file_extension": ".py",
   "mimetype": "text/x-python",
   "name": "python",
   "nbconvert_exporter": "python",
   "pygments_lexer": "ipython3",
   "version": "3.9.12"
  }
 },
 "nbformat": 4,
 "nbformat_minor": 5
}
